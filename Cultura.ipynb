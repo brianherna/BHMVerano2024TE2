{
 "cells": [
  {
   "cell_type": "markdown",
   "id": "d24de5de-4f78-4563-8c69-bb311fa89197",
   "metadata": {},
   "source": [
    "# Ejercicio 13: Cultura\n",
    "Una persona tiene un libro de cada uno de los autores siguientes: Mario Vargas Llosa,  \n",
    "Alberto Ruy Sánchez, Gabriel García Márquez, Günther Grass, Patrick Süskind, Heinrich Böll,  \n",
    "Arturo Pérez-Reverte y Camilo José Cela. Como aún no los ha leído, quiere ponerlos en una  \n",
    "repisa cerca de su cama. De acuerdo con esto, determina:  \n"
   ]
  },
  {
   "cell_type": "code",
   "execution_count": 3,
   "id": "dc39f97f-9e40-41d6-9e15-1978be164538",
   "metadata": {},
   "outputs": [],
   "source": [
    "from math import factorial"
   ]
  },
  {
   "cell_type": "markdown",
   "id": "cb2f301c-f414-4ea3-96ec-6fef34936a25",
   "metadata": {},
   "source": [
    "## 1. Inciso (a) ¿De cuántas formas puede acomodar los libros sobre la repisa?  \n",
    "Número total de formas posibles de ordenar 8 libros:\n",
    "\n",
    "El número total de permutaciones de 8 libros se calcula como \\( 8! \\):\n",
    "\n",
    "$$ 8! = 8 \\times 7 \\times 6 \\times 5 \\times 4 \\times 3 \\times 2 \\times 1 = 40320 $$\n",
    "\n",
    "Esto significa que hay 40320 formas diferentes de ordenar los 8 libros."
   ]
  },
  {
   "cell_type": "code",
   "execution_count": 4,
   "id": "54e03a59-c0fd-4350-acc2-d506241407c3",
   "metadata": {},
   "outputs": [
    {
     "name": "stdout",
     "output_type": "stream",
     "text": [
      "Número total de formas sin restricciones: 40320\n"
     ]
    }
   ],
   "source": [
    "# Calcular el número total de formas posibles de ordenar 8 libros\n",
    "resultado = factorial(8)\n",
    "print(\"Número total de formas sin restricciones:\", resultado)"
   ]
  },
  {
   "cell_type": "markdown",
   "id": "20f2f0dd-0aba-4a54-90be-ad212802265f",
   "metadata": {},
   "source": [
    "### 2. Inciso (b): ¿De cuántas maneras puede ordenarlos si quiere que los libros de autores latinoamericanos  \n",
    "estén juntos?  \n",
    "\n",
    "Para calcular en cuantas maneras en que los autores latinoamericanos (3 autores) están juntos como un bloque, consideramos estos 3 autores como un bloque único. Luego calculamos las permutaciones de estos 6 bloques en total:\n",
    "\n",
    "$$  \\text{Maneras (b)} = 6! \\times 3! $$\n",
    "\n",
    "- \\( 6! \\) representa las permutaciones de los 6 bloques restantes (3 autores latinoamericanos como un bloque y los otros 5 autores individuales).\n",
    "- \\( 3! \\) representa las permutaciones dentro del bloque de autores latinoamericanos.\n",
    "\n",
    "Calculamos \\( 6! \\) y \\( 3! \\):\n",
    "\n",
    "$$ 6! = 6 \\times 5 \\times 4 \\times 3 \\times 2 \\times 1 = 720 $$\n",
    "\n",
    "$$ 3! = 3 \\times 2 \\times 1 = 6 $$\n",
    "\n",
    "Entonces,\n",
    "\n",
    "$$ \\text{Maneras (b)} = 720 \\times 6 = 4320 $$"
   ]
  },
  {
   "cell_type": "code",
   "execution_count": 17,
   "id": "36528d48-914d-4db5-b7a9-49618923d1fc",
   "metadata": {},
   "outputs": [
    {
     "name": "stdout",
     "output_type": "stream",
     "text": [
      "Maneras en que los autores latinoamericanos están juntos: 4320\n"
     ]
    }
   ],
   "source": [
    "# Inciso (b): Formas en que los autores latinoamericanos están juntos\n",
    "Latinos = factorial(6) * factorial(3)\n",
    "print(\"Maneras en que los autores latinoamericanos están juntos:\", Latinos)"
   ]
  },
  {
   "cell_type": "markdown",
   "id": "6c88f7e3-aa39-4de1-aa82-68cb15af49bf",
   "metadata": {},
   "source": [
    "### 3. Inciso (c): ¿De cuántas formas puede acomodarlos, si los autores latinoamericanos deben estar juntos,  \n",
    "así como los autores alemanes y los españoles también? \n",
    "\n",
    "Para este caso, tenemos 3 grupos de autores (latinoamericanos, españoles y alemanes), cada uno debe estar junto como un bloque separado. Calculamos las permutaciones de estos bloques y dentro de cada bloque:\n",
    "\n",
    "$$ \\text{Formas (c)} = 3! \\times 2! \\times 3! \\times 3! $$\n",
    "\n",
    "- \\( 3! \\) representa las permutaciones de los 3 bloques (latinoamericanos, españoles, alemanes).\n",
    "- \\( 2! \\) representa las permutaciones dentro del bloque de autores españoles.\n",
    "- \\( 3! \\) representa las permutaciones dentro del bloque de autores alemanes.\n",
    "\n",
    "Calculamos \\( 3! \\) y \\( 2! \\):\n",
    "\n",
    "$$ 3! = 6 $$\n",
    "$$ 2! = 2 $$\n",
    "\n",
    "Entonces,\n",
    "\n",
    "$$ \\text{Formas (c)} = 6 \\times 2 \\times 6 \\times 6 = 432 $$"
   ]
  },
  {
   "cell_type": "code",
   "execution_count": 8,
   "id": "ec7e1f80-d3ff-4a3c-8025-c2ee30b4debb",
   "metadata": {},
   "outputs": [
    {
     "name": "stdout",
     "output_type": "stream",
     "text": [
      "Formas en que los autores latinoamericanos, españoles y alemanes están juntos: 432\n"
     ]
    }
   ],
   "source": [
    "# Inciso (c): Formas en que los autores latinoamericanos, españoles y alemanes están juntos como bloques separados\n",
    "total = factorial(3) * factorial(2) * factorial(3) * factorial(3)\n",
    "print(\"Formas en que los autores latinoamericanos, españoles y alemanes están juntos:\", total)"
   ]
  },
  {
   "cell_type": "markdown",
   "id": "3054969c-1aaa-4bc6-8d39-c8177035f076",
   "metadata": {},
   "source": [
    "d) Determina las probabilidades correspondientes a los incisos (b) y (c).  "
   ]
  },
  {
   "cell_type": "code",
   "execution_count": 13,
   "id": "af132058-ac1a-4192-97de-fdbfba058b75",
   "metadata": {},
   "outputs": [
    {
     "name": "stdout",
     "output_type": "stream",
     "text": [
      "Probabilidad de que los autores latinoamericanos estén juntos: 0.10714285714285714\n",
      "Probabilidad de que los autores latinoamericanos, españoles y alemanes estén juntos como bloques separados: 0.010714285714285714\n"
     ]
    }
   ],
   "source": [
    "# Probabilidad de que los autores latinoamericanos estén juntos\n",
    "Probabilidad_B = Latinos / resultado\n",
    "\n",
    "# Probabilidad de que los autores latinoamericanos, españoles y alemanes estén juntos como bloques separados\n",
    "Probabilidad_C = total / resultado\n",
    "\n",
    "# Imprimir las probabilidades\n",
    "print(\"Probabilidad de que los autores latinoamericanos estén juntos:\", Probabilidad_B)\n",
    "print(\"Probabilidad de que los autores latinoamericanos, españoles y alemanes estén juntos como bloques separados:\", Probabilidad_C)"
   ]
  }
 ],
 "metadata": {
  "kernelspec": {
   "display_name": "Python 3 (ipykernel)",
   "language": "python",
   "name": "python3"
  },
  "language_info": {
   "codemirror_mode": {
    "name": "ipython",
    "version": 3
   },
   "file_extension": ".py",
   "mimetype": "text/x-python",
   "name": "python",
   "nbconvert_exporter": "python",
   "pygments_lexer": "ipython3",
   "version": "3.12.4"
  }
 },
 "nbformat": 4,
 "nbformat_minor": 5
}
