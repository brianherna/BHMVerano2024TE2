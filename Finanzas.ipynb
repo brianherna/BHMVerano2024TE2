{
 "cells": [
  {
   "cell_type": "markdown",
   "id": "5efc56cb-d7cb-4dee-91d6-be682454366b",
   "metadata": {},
   "source": [
    "## 14. Finanzas. Se va a formar un portafolio de inversión de cuatro instrumentos financieros a partir de cinco de renta fija y seis de renta variable. "
   ]
  },
  {
   "cell_type": "code",
   "execution_count": 1,
   "id": "744cb5b4-7b2c-4f24-9bf6-d2e396a993a8",
   "metadata": {},
   "outputs": [],
   "source": [
    "from math import comb \n",
    "# Esta funcion nos permite realizar las combinaciones"
   ]
  },
  {
   "cell_type": "markdown",
   "id": "90c537e4-6808-40fd-a625-3ee8ab6ca935",
   "metadata": {},
   "source": [
    "### ¿De cuántas maneras podría formarse el portafolio si: (a) No hay restricciones?  \n",
    "\n",
    "Para calcular el número de maneras de formar un portafolio seleccionando 4 instrumentos de un total de 11 disponibles, utilizamos combinaciones:\n",
    "\n",
    "$$ \\text{Manera} = \\binom{11}{4} $$\n",
    "\n",
    "Esto nos da todas las formas posibles de seleccionar 4 instrumentos de 11.\n"
   ]
  },
  {
   "cell_type": "code",
   "execution_count": 2,
   "id": "4ddf9d1d-1ba8-495e-b53a-a7b82c11b77a",
   "metadata": {},
   "outputs": [
    {
     "name": "stdout",
     "output_type": "stream",
     "text": [
      "Inciso (a): Número de maneras de formar el portafolio = 330\n"
     ]
    }
   ],
   "source": [
    "# Inciso (a) Cuantas maneras podria formarse el portafolio\n",
    "Manera = comb(11, 4)\n",
    "print(\"Inciso (a): Número de maneras de formar el portafolio =\",Manera)"
   ]
  },
  {
   "cell_type": "markdown",
   "id": "ca7c4a82-15be-43d9-9a2f-ca2cafbb218f",
   "metadata": {},
   "source": [
    "### b) Debe haber dos instrumentos de renta fija y dos de renta variable? \n",
    "\n",
    "Aquí, necesitamos contar las combinaciones donde exactamente 2 instrumentos son de renta fija y 2 son de renta variable:\n",
    "\n",
    "$$ \\text{Fijas y Variables} = \\binom{5}{2} \\times \\binom{6}{2} $$\n",
    "\n",
    "Esto implica seleccionar 2 instrumentos de renta fija de entre 5 posibles y 2 instrumentos de renta variable de entre 6 posibles."
   ]
  },
  {
   "cell_type": "code",
   "execution_count": 3,
   "id": "7fbd4068-b8f7-4367-bd4b-2fb295fe793a",
   "metadata": {},
   "outputs": [
    {
     "name": "stdout",
     "output_type": "stream",
     "text": [
      "Inciso (b): Número de combinaciones con 2 instrumentos de renta fija y 2 de renta variable = 25\n"
     ]
    }
   ],
   "source": [
    "# Inciso (b) Debe haber dos instrumentos de renta fija y dos de renta variable?\n",
    "fijas_renta = comb(5,2) + comb(6,2)\n",
    "\n",
    "print(\"Inciso (b): Número de combinaciones con 2 instrumentos de renta fija y 2 de renta variable =\", fijas_renta)"
   ]
  },
  {
   "cell_type": "markdown",
   "id": "199db4cd-7906-4d64-be88-f90d6477f0ff",
   "metadata": {},
   "source": [
    "### c) No debe haber ningún instrumento de renta fija?  \n",
    "En este caso, ningún instrumento debe ser de renta fija, por lo tanto seleccionamos todos los instrumentos de renta variable:\n",
    "\n",
    "$$ \\text{No Fijas} = \\binom{5}{0} \\times \\binom{6}{4} $$\n",
    "\n",
    "Esto significa elegir 0 instrumentos de renta fija de entre 5 posibles y 4 instrumentos de renta variable de entre 6 posibles."
   ]
  },
  {
   "cell_type": "code",
   "execution_count": 4,
   "id": "3ce099e5-e63c-4e1d-99ac-3bfc42b64f21",
   "metadata": {},
   "outputs": [
    {
     "name": "stdout",
     "output_type": "stream",
     "text": [
      "Inciso (c): Número de combinaciones sin instrumentos de renta fija = 15\n"
     ]
    }
   ],
   "source": [
    "# Inciso (c) No debe haber ningún instrumento de renta fija?\n",
    "No_fijas = comb(5, 0) * comb(6, 4)\n",
    "print(\"Inciso (c): Número de combinaciones sin instrumentos de renta fija =\", No_fijas)"
   ]
  },
  {
   "cell_type": "markdown",
   "id": "4eafeddb-e3fc-4bd6-b7e2-cd103094e5d2",
   "metadata": {},
   "source": [
    "### d) Debe haber tres instrumentos de renta fija?  \n",
    "Para este caso, se requiere que exactamente 3 instrumentos sean de renta fija:\n",
    "\n",
    "$$ \\text{Fija} = \\binom{5}{3} \\times \\binom{6}{1} $$\n",
    "\n",
    "Esto implica seleccionar 3 instrumentos de renta fija de entre 5 posibles y 1 instrumento de renta variable de entre 6 posibles."
   ]
  },
  {
   "cell_type": "code",
   "execution_count": 5,
   "id": "ed9497ee-d7ee-42a0-8fa1-5170b9c49774",
   "metadata": {},
   "outputs": [
    {
     "name": "stdout",
     "output_type": "stream",
     "text": [
      "Inciso (d): Número de combinaciones con 3 instrumentos de renta fija = 16\n"
     ]
    }
   ],
   "source": [
    "# Inciso (d) Debe haber tres instrumentos de renta fija? \n",
    "fija = comb(5,3) + comb(6, 1)\n",
    "print(\"Inciso (d): Número de combinaciones con 3 instrumentos de renta fija =\", fija)"
   ]
  },
  {
   "cell_type": "markdown",
   "id": "4c0c688c-778d-44e7-a50d-864d4e33e1ee",
   "metadata": {},
   "source": [
    "### e) Calcula las probabilidades para los incisos anteriores.    "
   ]
  },
  {
   "cell_type": "code",
   "execution_count": 7,
   "id": "2d9aea99-adbb-43dd-b4d0-2e819189b0f0",
   "metadata": {},
   "outputs": [
    {
     "name": "stdout",
     "output_type": "stream",
     "text": [
      "La probabilidad del inciso (a) es = 1.0 %\n",
      "La probabilidad del inciso (b) es = 0.07575757575757576 %\n",
      "La probabilidad del inciso (c) es = 0.045454545454545456 %\n",
      "La probabilidad del inciso (d) es = 0.048484848484848485 %\n"
     ]
    }
   ],
   "source": [
    "# Inciso (e) Calcula las probabilidades para los incisos anteriores\n",
    "probabilidad_A = Manera / Manera\n",
    "probabilidad_B = fijas_renta / Manera\n",
    "probabilidad_C = No_fijas / Manera\n",
    "probabilidad_D = fija / Manera\n",
    "print(\"La probabilidad del inciso (a) es =\", probabilidad_A, \"%\")\n",
    "print(\"La probabilidad del inciso (b) es =\",probabilidad_B, \"%\")\n",
    "print(\"La probabilidad del inciso (c) es =\",probabilidad_C, \"%\")\n",
    "print(\"La probabilidad del inciso (d) es =\",probabilidad_D, \"%\")"
   ]
  },
  {
   "cell_type": "markdown",
   "id": "cbac0831-c6e3-4952-b956-4db0cd05c797",
   "metadata": {},
   "source": [
    "De aqui salio la idea  \n",
    "https://www.youtube.com/watch?v=s_w-T6YWptE&list=PLXmyaEzxglCR9wBBJUCDSRjAISFcv5lPE&index=3"
   ]
  }
 ],
 "metadata": {
  "kernelspec": {
   "display_name": "Python 3 (ipykernel)",
   "language": "python",
   "name": "python3"
  },
  "language_info": {
   "codemirror_mode": {
    "name": "ipython",
    "version": 3
   },
   "file_extension": ".py",
   "mimetype": "text/x-python",
   "name": "python",
   "nbconvert_exporter": "python",
   "pygments_lexer": "ipython3",
   "version": "3.12.4"
  }
 },
 "nbformat": 4,
 "nbformat_minor": 5
}
